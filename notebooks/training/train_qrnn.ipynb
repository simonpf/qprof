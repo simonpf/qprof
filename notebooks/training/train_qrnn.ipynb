{
 "cells": [
  {
   "cell_type": "code",
   "execution_count": 2,
   "metadata": {},
   "outputs": [
    {
     "name": "stdout",
     "output_type": "stream",
     "text": [
      "env: QPROF_DATA_PATH=/home/simonpf/src/qprof/data\n"
     ]
    }
   ],
   "source": [
    "%load_ext autoreload\n",
    "%autoreload 2\n",
    "import numpy as np\n",
    "%matplotlib inline\n",
    "import matplotlib.pyplot as plt\n",
    "import os\n",
    "import sys\n",
    "%env QPROF_DATA_PATH=/home/simonpf/src/qprof/data\n",
    "sys.path.append(\"/home/simonpf/src/qprof\")"
   ]
  },
  {
   "cell_type": "markdown",
   "metadata": {},
   "source": [
    "# Training data\n",
    "\n",
    "The interface to the training data is realized using pytorchs Dataset\n",
    "class. The data object provides access to single samples in the training\n",
    "data."
   ]
  },
  {
   "cell_type": "code",
   "execution_count": 3,
   "metadata": {},
   "outputs": [],
   "source": [
    "from qprof.data import RainRates\n",
    "qprof_path = os.environ[\"QPROF_DATA_PATH\"]\n",
    "path = os.path.join(qprof_path, \"training_data_full.nc\")\n",
    "data = RainRates(path, batch_size = 256)"
   ]
  },
  {
   "cell_type": "markdown",
   "metadata": {},
   "source": [
    "For the actual training, the data object needs to be wrapped in a data loader, which generates batches\n",
    "from the training data."
   ]
  },
  {
   "cell_type": "code",
   "execution_count": 4,
   "metadata": {},
   "outputs": [],
   "source": [
    "import torch\n",
    "from torch.utils.data import DataLoader, random_split\n",
    "n_train = int(0.90 * len(data))\n",
    "n_val = len(data) - n_train\n",
    "training_data, validation_data = random_split(data, [n_train, n_val])\n",
    "training_loader = DataLoader(training_data, batch_size = None, shuffle = False)\n",
    "validation_loader = DataLoader(validation_data, batch_size = None)"
   ]
  },
  {
   "cell_type": "code",
   "execution_count": 5,
   "metadata": {},
   "outputs": [
    {
     "data": {
      "text/plain": [
       "'/home/simonpf/src/qprof/data'"
      ]
     },
     "execution_count": 5,
     "metadata": {},
     "output_type": "execute_result"
    }
   ],
   "source": [
    "qprof_path"
   ]
  },
  {
   "cell_type": "code",
   "execution_count": 6,
   "metadata": {},
   "outputs": [
    {
     "data": {
      "text/plain": [
       "True"
      ]
     },
     "execution_count": 6,
     "metadata": {},
     "output_type": "execute_result"
    }
   ],
   "source": [
    "import torch.cuda\n",
    "torch.cuda.init()\n",
    "torch.cuda.is_available()"
   ]
  },
  {
   "cell_type": "markdown",
   "metadata": {},
   "source": [
    "# QRNN training\n",
    "\n",
    "Training the QRNN is straight forward."
   ]
  },
  {
   "cell_type": "code",
   "execution_count": 35,
   "metadata": {},
   "outputs": [
    {
     "data": {
      "application/vnd.jupyter.widget-view+json": {
       "model_id": "db8578b3d23d4428abb86487384dc064",
       "version_major": 2,
       "version_minor": 0
      },
      "text/plain": [
       "HBox(children=(IntProgress(value=0, max=31249), HTML(value='')))"
      ]
     },
     "metadata": {},
     "output_type": "display_data"
    },
    {
     "data": {
      "application/vnd.jupyter.widget-view+json": {
       "model_id": "b15310a0d1154d98a230600fc04b2dc9",
       "version_major": 2,
       "version_minor": 0
      },
      "text/plain": [
       "HBox(children=(IntProgress(value=0, max=31249), HTML(value='')))"
      ]
     },
     "metadata": {},
     "output_type": "display_data"
    },
    {
     "data": {
      "application/vnd.jupyter.widget-view+json": {
       "model_id": "dbc109cf3b334fa18c9283b224c4a082",
       "version_major": 2,
       "version_minor": 0
      },
      "text/plain": [
       "HBox(children=(IntProgress(value=0, max=31249), HTML(value='')))"
      ]
     },
     "metadata": {},
     "output_type": "display_data"
    },
    {
     "data": {
      "application/vnd.jupyter.widget-view+json": {
       "model_id": "93de8806cd0c42da9423184e4e5c0420",
       "version_major": 2,
       "version_minor": 0
      },
      "text/plain": [
       "HBox(children=(IntProgress(value=0, max=31249), HTML(value='')))"
      ]
     },
     "metadata": {},
     "output_type": "display_data"
    }
   ],
   "source": [
    "from typhon.retrieval.qrnn.backends.pytorch import QRNN\n",
    "quantiles = [0.01, 0.05, 0.15, 0.25, 0.35, 0.45, 0.5, 0.55, 0.65, 0.75, 0.85, 0.95, 0.99]\n",
    "qrnn = QRNN(13, quantiles, depth = 10, width = 512)\n",
    "qrnn.train(training_loader, validation_loader, adversarial_training = False, gpu = True, lr = 1e-3)\n",
    "qrnn.train(training_loader, validation_loader, adversarial_training = False, gpu = True, lr = 1e-4)\n",
    "qrnn.train(training_loader, validation_loader, adversarial_training = False, gpu = True, lr = 1e-5)\n",
    "qrnn.train(training_loader, validation_loader, adversarial_training = False, gpu = True, lr = 1e-6)"
   ]
  },
  {
   "cell_type": "code",
   "execution_count": 46,
   "metadata": {},
   "outputs": [
    {
     "data": {
      "text/plain": [
       "torch.float32"
      ]
     },
     "execution_count": 46,
     "metadata": {},
     "output_type": "execute_result"
    }
   ],
   "source": [
    "qrnn.criterion.quantiles.dtype"
   ]
  },
  {
   "cell_type": "markdown",
   "metadata": {},
   "source": [
    "# Evaluation\n",
    "\n",
    "We briefly compute the calibration on the validation set."
   ]
  },
  {
   "cell_type": "code",
   "execution_count": 32,
   "metadata": {},
   "outputs": [],
   "source": [
    "import torch\n",
    "from torch.utils.data import DataLoader, random_split\n",
    "n_train = int(0.8 * len(data))\n",
    "n_val = len(data) - n_train\n",
    "training_data, validation_data = random_split(data, [n_train, n_val])\n",
    "training_loader = DataLoader(training_data, batch_size = None)\n",
    "validation_loader = DataLoader(validation_data, batch_size = None)"
   ]
  },
  {
   "cell_type": "code",
   "execution_count": 33,
   "metadata": {},
   "outputs": [
    {
     "data": {
      "text/plain": [
       "(array([0.1 , 0.3 , 0.5 , 0.7 , 0.9 , 0.98]),\n",
       " array([0.        , 0.8452369 , 0.8452369 , 0.8562627 , 0.94475904,\n",
       "        0.98959667]))"
      ]
     },
     "execution_count": 33,
     "metadata": {},
     "output_type": "execute_result"
    }
   ],
   "source": [
    "intervals, frequencies\n"
   ]
  },
  {
   "cell_type": "code",
   "execution_count": 36,
   "metadata": {},
   "outputs": [
    {
     "data": {
      "application/vnd.jupyter.widget-view+json": {
       "model_id": "89b0301a56754769ac9ebf12e685eb91",
       "version_major": 2,
       "version_minor": 0
      },
      "text/plain": [
       "HBox(children=(IntProgress(value=0, max=7813), HTML(value='')))"
      ]
     },
     "metadata": {},
     "output_type": "display_data"
    }
   ],
   "source": [
    "intervals, frequencies = qrnn.calibration(validation_loader)"
   ]
  },
  {
   "cell_type": "code",
   "execution_count": 37,
   "metadata": {},
   "outputs": [
    {
     "data": {
      "text/plain": [
       "<module 'matplotlib.pyplot' from '/home/simonpf/build/anaconda3/lib/python3.7/site-packages/matplotlib/pyplot.py'>"
      ]
     },
     "execution_count": 37,
     "metadata": {},
     "output_type": "execute_result"
    },
    {
     "data": {
      "image/png": "[encoded data removed]",
      "text/plain": [
       "<Figure size 432x288 with 1 Axes>"
      ]
     },
     "metadata": {
      "needs_background": "light"
     },
     "output_type": "display_data"
    }
   ],
   "source": [
    "plt.plot(intervals, frequencies)\n",
    "plt.plot(intervals, intervals, ls = \"--\")\n",
    "plt"
   ]
  },
  {
   "cell_type": "code",
   "execution_count": 56,
   "metadata": {},
   "outputs": [],
   "source": [
    "from typhon.retrieval.qrnn.backends.pytorch import QuantileLoss"
   ]
  },
  {
   "cell_type": "code",
   "execution_count": 58,
   "metadata": {},
   "outputs": [],
   "source": []
  },
  {
   "cell_type": "code",
   "execution_count": 64,
   "metadata": {},
   "outputs": [
    {
     "data": {
      "text/plain": [
       "<function numpy.repeat(a, repeats, axis=None)>"
      ]
     },
     "execution_count": 64,
     "metadata": {},
     "output_type": "execute_result"
    }
   ],
   "source": [
    "np.repeat"
   ]
  },
  {
   "cell_type": "code",
   "execution_count": 81,
   "metadata": {},
   "outputs": [
    {
     "data": {
      "text/plain": [
       "[<matplotlib.lines.Line2D at 0x7f25915536d0>]"
      ]
     },
     "execution_count": 81,
     "metadata": {},
     "output_type": "execute_result"
    },
    {
     "data": {
      "image/png": "[encoded data removed]",
      "text/plain": [
       "<Figure size 432x288 with 1 Axes>"
      ]
     },
     "metadata": {
      "needs_background": "light"
     },
     "output_type": "display_data"
    }
   ],
   "source": [
    "import numpy as np\n",
    "ql = QuantileLoss([0.9])\n",
    "y = torch.tensor(np.zeros((1, 1))).float()\n",
    "y_pred = torch.tensor(np.repeat(np.linspace(-5, 5, 101).reshape(-1, 1), 1, axis = 1)).float()\n",
    "\n",
    "ls = np.zeros(1000)\n",
    "x = np.linspace(-5, 5, 1000)\n",
    "for i in range(1000):\n",
    "    y_pred = torch.tensor([x[i]])\n",
    "    ls[i] = ql(y_pred, y)\n",
    "plt.plot(ls)"
   ]
  },
  {
   "cell_type": "code",
   "execution_count": 66,
   "metadata": {},
   "outputs": [
    {
     "data": {
      "text/plain": [
       "tensor([[-5.0000, -5.0000, -5.0000, -5.0000, -5.0000],\n",
       "        [-4.9000, -4.9000, -4.9000, -4.9000, -4.9000],\n",
       "        [-4.8000, -4.8000, -4.8000, -4.8000, -4.8000],\n",
       "        [-4.7000, -4.7000, -4.7000, -4.7000, -4.7000],\n",
       "        [-4.6000, -4.6000, -4.6000, -4.6000, -4.6000],\n",
       "        [-4.5000, -4.5000, -4.5000, -4.5000, -4.5000],\n",
       "        [-4.4000, -4.4000, -4.4000, -4.4000, -4.4000],\n",
       "        [-4.3000, -4.3000, -4.3000, -4.3000, -4.3000],\n",
       "        [-4.2000, -4.2000, -4.2000, -4.2000, -4.2000],\n",
       "        [-4.1000, -4.1000, -4.1000, -4.1000, -4.1000],\n",
       "        [-4.0000, -4.0000, -4.0000, -4.0000, -4.0000],\n",
       "        [-3.9000, -3.9000, -3.9000, -3.9000, -3.9000],\n",
       "        [-3.8000, -3.8000, -3.8000, -3.8000, -3.8000],\n",
       "        [-3.7000, -3.7000, -3.7000, -3.7000, -3.7000],\n",
       "        [-3.6000, -3.6000, -3.6000, -3.6000, -3.6000],\n",
       "        [-3.5000, -3.5000, -3.5000, -3.5000, -3.5000],\n",
       "        [-3.4000, -3.4000, -3.4000, -3.4000, -3.4000],\n",
       "        [-3.3000, -3.3000, -3.3000, -3.3000, -3.3000],\n",
       "        [-3.2000, -3.2000, -3.2000, -3.2000, -3.2000],\n",
       "        [-3.1000, -3.1000, -3.1000, -3.1000, -3.1000],\n",
       "        [-3.0000, -3.0000, -3.0000, -3.0000, -3.0000],\n",
       "        [-2.9000, -2.9000, -2.9000, -2.9000, -2.9000],\n",
       "        [-2.8000, -2.8000, -2.8000, -2.8000, -2.8000],\n",
       "        [-2.7000, -2.7000, -2.7000, -2.7000, -2.7000],\n",
       "        [-2.6000, -2.6000, -2.6000, -2.6000, -2.6000],\n",
       "        [-2.5000, -2.5000, -2.5000, -2.5000, -2.5000],\n",
       "        [-2.4000, -2.4000, -2.4000, -2.4000, -2.4000],\n",
       "        [-2.3000, -2.3000, -2.3000, -2.3000, -2.3000],\n",
       "        [-2.2000, -2.2000, -2.2000, -2.2000, -2.2000],\n",
       "        [-2.1000, -2.1000, -2.1000, -2.1000, -2.1000],\n",
       "        [-2.0000, -2.0000, -2.0000, -2.0000, -2.0000],\n",
       "        [-1.9000, -1.9000, -1.9000, -1.9000, -1.9000],\n",
       "        [-1.8000, -1.8000, -1.8000, -1.8000, -1.8000],\n",
       "        [-1.7000, -1.7000, -1.7000, -1.7000, -1.7000],\n",
       "        [-1.6000, -1.6000, -1.6000, -1.6000, -1.6000],\n",
       "        [-1.5000, -1.5000, -1.5000, -1.5000, -1.5000],\n",
       "        [-1.4000, -1.4000, -1.4000, -1.4000, -1.4000],\n",
       "        [-1.3000, -1.3000, -1.3000, -1.3000, -1.3000],\n",
       "        [-1.2000, -1.2000, -1.2000, -1.2000, -1.2000],\n",
       "        [-1.1000, -1.1000, -1.1000, -1.1000, -1.1000],\n",
       "        [-1.0000, -1.0000, -1.0000, -1.0000, -1.0000],\n",
       "        [-0.9000, -0.9000, -0.9000, -0.9000, -0.9000],\n",
       "        [-0.8000, -0.8000, -0.8000, -0.8000, -0.8000],\n",
       "        [-0.7000, -0.7000, -0.7000, -0.7000, -0.7000],\n",
       "        [-0.6000, -0.6000, -0.6000, -0.6000, -0.6000],\n",
       "        [-0.5000, -0.5000, -0.5000, -0.5000, -0.5000],\n",
       "        [-0.4000, -0.4000, -0.4000, -0.4000, -0.4000],\n",
       "        [-0.3000, -0.3000, -0.3000, -0.3000, -0.3000],\n",
       "        [-0.2000, -0.2000, -0.2000, -0.2000, -0.2000],\n",
       "        [-0.1000, -0.1000, -0.1000, -0.1000, -0.1000],\n",
       "        [ 0.0000,  0.0000,  0.0000,  0.0000,  0.0000],\n",
       "        [ 0.1000,  0.1000,  0.1000,  0.1000,  0.1000],\n",
       "        [ 0.2000,  0.2000,  0.2000,  0.2000,  0.2000],\n",
       "        [ 0.3000,  0.3000,  0.3000,  0.3000,  0.3000],\n",
       "        [ 0.4000,  0.4000,  0.4000,  0.4000,  0.4000],\n",
       "        [ 0.5000,  0.5000,  0.5000,  0.5000,  0.5000],\n",
       "        [ 0.6000,  0.6000,  0.6000,  0.6000,  0.6000],\n",
       "        [ 0.7000,  0.7000,  0.7000,  0.7000,  0.7000],\n",
       "        [ 0.8000,  0.8000,  0.8000,  0.8000,  0.8000],\n",
       "        [ 0.9000,  0.9000,  0.9000,  0.9000,  0.9000],\n",
       "        [ 1.0000,  1.0000,  1.0000,  1.0000,  1.0000],\n",
       "        [ 1.1000,  1.1000,  1.1000,  1.1000,  1.1000],\n",
       "        [ 1.2000,  1.2000,  1.2000,  1.2000,  1.2000],\n",
       "        [ 1.3000,  1.3000,  1.3000,  1.3000,  1.3000],\n",
       "        [ 1.4000,  1.4000,  1.4000,  1.4000,  1.4000],\n",
       "        [ 1.5000,  1.5000,  1.5000,  1.5000,  1.5000],\n",
       "        [ 1.6000,  1.6000,  1.6000,  1.6000,  1.6000],\n",
       "        [ 1.7000,  1.7000,  1.7000,  1.7000,  1.7000],\n",
       "        [ 1.8000,  1.8000,  1.8000,  1.8000,  1.8000],\n",
       "        [ 1.9000,  1.9000,  1.9000,  1.9000,  1.9000],\n",
       "        [ 2.0000,  2.0000,  2.0000,  2.0000,  2.0000],\n",
       "        [ 2.1000,  2.1000,  2.1000,  2.1000,  2.1000],\n",
       "        [ 2.2000,  2.2000,  2.2000,  2.2000,  2.2000],\n",
       "        [ 2.3000,  2.3000,  2.3000,  2.3000,  2.3000],\n",
       "        [ 2.4000,  2.4000,  2.4000,  2.4000,  2.4000],\n",
       "        [ 2.5000,  2.5000,  2.5000,  2.5000,  2.5000],\n",
       "        [ 2.6000,  2.6000,  2.6000,  2.6000,  2.6000],\n",
       "        [ 2.7000,  2.7000,  2.7000,  2.7000,  2.7000],\n",
       "        [ 2.8000,  2.8000,  2.8000,  2.8000,  2.8000],\n",
       "        [ 2.9000,  2.9000,  2.9000,  2.9000,  2.9000],\n",
       "        [ 3.0000,  3.0000,  3.0000,  3.0000,  3.0000],\n",
       "        [ 3.1000,  3.1000,  3.1000,  3.1000,  3.1000],\n",
       "        [ 3.2000,  3.2000,  3.2000,  3.2000,  3.2000],\n",
       "        [ 3.3000,  3.3000,  3.3000,  3.3000,  3.3000],\n",
       "        [ 3.4000,  3.4000,  3.4000,  3.4000,  3.4000],\n",
       "        [ 3.5000,  3.5000,  3.5000,  3.5000,  3.5000],\n",
       "        [ 3.6000,  3.6000,  3.6000,  3.6000,  3.6000],\n",
       "        [ 3.7000,  3.7000,  3.7000,  3.7000,  3.7000],\n",
       "        [ 3.8000,  3.8000,  3.8000,  3.8000,  3.8000],\n",
       "        [ 3.9000,  3.9000,  3.9000,  3.9000,  3.9000],\n",
       "        [ 4.0000,  4.0000,  4.0000,  4.0000,  4.0000],\n",
       "        [ 4.1000,  4.1000,  4.1000,  4.1000,  4.1000],\n",
       "        [ 4.2000,  4.2000,  4.2000,  4.2000,  4.2000],\n",
       "        [ 4.3000,  4.3000,  4.3000,  4.3000,  4.3000],\n",
       "        [ 4.4000,  4.4000,  4.4000,  4.4000,  4.4000],\n",
       "        [ 4.5000,  4.5000,  4.5000,  4.5000,  4.5000],\n",
       "        [ 4.6000,  4.6000,  4.6000,  4.6000,  4.6000],\n",
       "        [ 4.7000,  4.7000,  4.7000,  4.7000,  4.7000],\n",
       "        [ 4.8000,  4.8000,  4.8000,  4.8000,  4.8000],\n",
       "        [ 4.9000,  4.9000,  4.9000,  4.9000,  4.9000],\n",
       "        [ 5.0000,  5.0000,  5.0000,  5.0000,  5.0000]], dtype=torch.float64)"
      ]
     },
     "execution_count": 66,
     "metadata": {},
     "output_type": "execute_result"
    }
   ],
   "source": []
  },
  {
   "cell_type": "code",
   "execution_count": null,
   "metadata": {},
   "outputs": [],
   "source": []
  }
 ],
 "metadata": {
  "kernelspec": {
   "display_name": "Python 3",
   "language": "python",
   "name": "python3"
  },
  "language_info": {
   "codemirror_mode": {
    "name": "ipython",
    "version": 3
   },
   "file_extension": ".py",
   "mimetype": "text/x-python",
   "name": "python",
   "nbconvert_exporter": "python",
   "pygments_lexer": "ipython3",
   "version": "3.7.6"
  }
 },
 "nbformat": 4,
 "nbformat_minor": 2
}
